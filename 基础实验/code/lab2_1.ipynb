{
 "cells": [
  {
   "cell_type": "code",
   "execution_count": 1,
   "id": "b1d90f4f",
   "metadata": {},
   "outputs": [],
   "source": [
    "import torch\n",
    "import torchvision\n",
    "from torchvision import transforms\n",
    "import matplotlib.pyplot as plt\n",
    "import numpy as np\n"
   ]
  },
  {
   "cell_type": "code",
   "execution_count": 2,
   "id": "356aee28",
   "metadata": {},
   "outputs": [],
   "source": [
    "def plot_show(x):\n",
    "    _, figs = plt.subplots(1, 1, figsize=(5, 5))\n",
    "    # 使用detach().cpu().numpy()将tensor转换为numpy数组\n",
    "    figs.imshow(x.reshape((28, 28)).detach().cpu().numpy(), cmap='gray')\n",
    "    ax = figs.axes\n",
    "    ax.get_xaxis().set_visible(False)\n",
    "    ax.get_yaxis().set_visible(False)\n",
    "    plt.show()\n"
   ]
  },
  {
   "cell_type": "code",
   "execution_count": 3,
   "id": "1b63a28d",
   "metadata": {},
   "outputs": [
    {
     "data": {
      "image/png": "[encoded data removed]",
      "text/plain": [
       "<Figure size 500x500 with 1 Axes>"
      ]
     },
     "metadata": {},
     "output_type": "display_data"
    }
   ],
   "source": [
    "# 定义转换操作，这里我们只需要将数据转换为tensor\n",
    "transform = transforms.Compose([\n",
    "    transforms.ToTensor()\n",
    "])\n",
    "\n",
    "# 加载 FashionMNIST 数据集\n",
    "fashionMNIST_train = torchvision.datasets.FashionMNIST(root='./data', train=True, download=True, transform=transform)\n",
    "# 从数据集中提取图像和标签\n",
    "images, labels = zip(*[(data[0], data[1]) for data in fashionMNIST_train])\n",
    "# 转换为Tensor\n",
    "images = torch.stack(images)\n",
    "labels = torch.tensor(labels)\n",
    "X = images[0][0]  # 获取第一个图像的第一个通道\n",
    "plot_show(X)\n"
   ]
  },
  {
   "cell_type": "code",
   "execution_count": 4,
   "id": "8340730a",
   "metadata": {},
   "outputs": [
    {
     "data": {
      "image/png": "[encoded data removed]",
      "text/plain": [
       "<Figure size 500x500 with 1 Axes>"
      ]
     },
     "metadata": {},
     "output_type": "display_data"
    },
    {
     "data": {
      "image/png": "[encoded data removed]",
      "text/plain": [
       "<Figure size 500x500 with 1 Axes>"
      ]
     },
     "metadata": {},
     "output_type": "display_data"
    },
    {
     "data": {
      "image/png": "[encoded data removed]",
      "text/plain": [
       "<Figure size 500x500 with 1 Axes>"
      ]
     },
     "metadata": {},
     "output_type": "display_data"
    }
   ],
   "source": [
    "import torch.nn.functional as F\n",
    "\n",
    "def corr2d(X, K):\n",
    "    # 增加批量大小和通道数维度\n",
    "    X = X.unsqueeze(0).unsqueeze(0)\n",
    "    K = K.unsqueeze(0).unsqueeze(0)\n",
    "    Y = F.conv2d(X, K, padding=1)\n",
    "    return Y.squeeze()  # 移除多余的维度\n",
    "\n",
    "# 定义不同的卷积核\n",
    "K_vertical = torch.tensor([[1, 0, -1], [1, 0, -1], [1, 0, -1]], dtype=torch.float32)\n",
    "Y_vertical = corr2d(X, K_vertical)\n",
    "plot_show(Y_vertical)\n",
    "\n",
    "K_horizontal = torch.tensor([[1, 1, 1], [0, 0, 0], [-1, -1, -1]], dtype=torch.float32)\n",
    "Y_horizontal = corr2d(X, K_horizontal)\n",
    "plot_show(Y_horizontal)\n",
    "\n",
    "K_diagonal = torch.tensor([[0, 1, 0], [1, -4, 1], [0, 1, 0]], dtype=torch.float32)\n",
    "Y_diagonal = corr2d(X, K_diagonal)\n",
    "plot_show(Y_diagonal)\n"
   ]
  },
  {
   "cell_type": "code",
   "execution_count": null,
   "id": "268d4808",
   "metadata": {},
   "outputs": [],
   "source": [
    "import torch\n",
    "import torchvision\n",
    "from torchvision import transforms\n",
    "import matplotlib.pyplot as plt\n",
    "\n",
    "# 定义显示图像的函数\n",
    "def plot_show(x):\n",
    "    _, figs = plt.subplots(1, 1, figsize=(5, 5))\n",
    "    figs.imshow(x.reshape((28, 28)).detach().cpu().numpy(), cmap='gray')\n",
    "    ax = figs.axes\n",
    "    ax.get_xaxis().set_visible(False)\n",
    "    ax.get_yaxis().set_visible(False)\n",
    "    plt.show()\n",
    "\n",
    "# 定义数据预处理操作，将数据转换为tensor\n",
    "transform = transforms.Compose([\n",
    "    transforms.ToTensor()\n",
    "])\n",
    "\n",
    "# 加载 FashionMNIST 数据集并应用预处理操作\n",
    "fashionMNIST_train = torchvision.datasets.FashionMNIST(root='./data', train=True, download=True, transform=transform)\n"
   ]
  },
  {
   "cell_type": "code",
   "execution_count": null,
   "id": "be11c309",
   "metadata": {},
   "outputs": [],
   "source": [
    "# 显示图像的函数\n",
    "def plot_show(x):\n",
    "    _, figs = plt.subplots(1, 1, figsize=(5, 5))\n",
    "    figs.imshow(x.reshape((28, 28)).detach().cpu().numpy(), cmap='gray')\n",
    "    ax = figs.axes\n",
    "    ax.get_xaxis().set_visible(False)\n",
    "    ax.get_yaxis().set_visible(False)\n",
    "    plt.show()\n"
   ]
  },
  {
   "cell_type": "code",
   "execution_count": null,
   "id": "a1f4e787",
   "metadata": {},
   "outputs": [],
   "source": [
    "import torch.nn.functional as F\n",
    "\n",
    "# 定义二维卷积操作函数\n",
    "def corr2d(X, K):\n",
    "    # 增加批量大小和通道数维度\n",
    "    X = X.unsqueeze(0).unsqueeze(0)\n",
    "    K = K.unsqueeze(0).unsqueeze(0)\n",
    "    Y = F.conv2d(X, K, padding=1)\n",
    "    return Y.squeeze()  # 移除多余的维度\n"
   ]
  },
  {
   "cell_type": "code",
   "execution_count": null,
   "id": "a9a7c119",
   "metadata": {},
   "outputs": [],
   "source": [
    "# 获取第一个图像的第一个通道\n",
    "X = images[0][0]\n",
    "\n",
    "# 定义不同的卷积核\n",
    "K_vertical = torch.tensor([[1, 0, -1], [1, 0, -1], [1, 0, -1]], dtype=torch.float32)\n",
    "Y_vertical = corr2d(X, K_vertical)\n",
    "plot_show(Y_vertical)\n",
    "\n",
    "K_horizontal = torch.tensor([[1, 1, 1], [0, 0, 0], [-1, -1, -1]], dtype=torch.float32)\n",
    "Y_horizontal = corr2d(X, K_horizontal)\n",
    "plot_show(Y_horizontal)\n",
    "\n",
    "K_diagonal = torch.tensor([[0, 1, 0], [1, -4, 1], [0, 1, 0]], dtype=torch.float32)\n",
    "Y_diagonal = corr2d(X, K_diagonal)\n",
    "plot_show(Y_diagonal)\n"
   ]
  }
 ],
 "metadata": {
  "kernelspec": {
   "display_name": "Python 3",
   "language": "python",
   "name": "python3"
  },
  "language_info": {
   "codemirror_mode": {
    "name": "ipython",
    "version": 3
   },
   "file_extension": ".py",
   "mimetype": "text/x-python",
   "name": "python",
   "nbconvert_exporter": "python",
   "pygments_lexer": "ipython3",
   "version": "3.10.11"
  }
 },
 "nbformat": 4,
 "nbformat_minor": 5
}
