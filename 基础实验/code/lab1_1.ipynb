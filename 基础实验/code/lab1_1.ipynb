{
 "cells": [
  {
   "cell_type": "code",
   "execution_count": 2,
   "metadata": {},
   "outputs": [
    {
     "name": "stdout",
     "output_type": "stream",
     "text": [
      "epoch 1, loss: 0.011633188463747501\n",
      "epoch 2, loss: 9.66954103205353e-05\n",
      "epoch 3, loss: 9.310568566434085e-05\n",
      "Error in estimating w [-4.556179e-04 -9.417534e-05]\n",
      "Error in estimating b 0.00016565322875994326\n"
     ]
    }
   ],
   "source": [
    "import torch\n",
    "from torch import nn\n",
    "import torch.optim as optim\n",
    "import numpy as np\n",
    "\n",
    "# Helper functions (equivalent to d2l functions)\n",
    "def synthetic_data(w, b, num_examples):\n",
    "    features = torch.normal(0, 1, (num_examples, len(w)))\n",
    "    labels = torch.matmul(features, w) + b\n",
    "    labels += torch.normal(0, 0.01, labels.shape)\n",
    "    return features, labels\n",
    "\n",
    "def load_array(data_arrays, batch_size, shuffle=True):\n",
    "    dataset = torch.utils.data.TensorDataset(*data_arrays)\n",
    "    return torch.utils.data.DataLoader(dataset, batch_size=batch_size, shuffle=shuffle)\n",
    "\n",
    "true_w = torch.tensor([2, -3.4], dtype=torch.float32)\n",
    "true_b = 4.2\n",
    "features, labels = synthetic_data(true_w, true_b, 1000)\n",
    "\n",
    "batch_size = 10\n",
    "data_iter = load_array((features, labels), batch_size)\n",
    "\n",
    "# Define the linear regression model\n",
    "net = nn.Sequential(nn.Linear(2, 1))  # 2 inputs (features) and 1 output (prediction)\n",
    "\n",
    "# Initialize model parameters\n",
    "nn.init.normal_(net[0].weight, std=0.01)\n",
    "nn.init.constant_(net[0].bias, val=0)\n",
    "\n",
    "# Loss function\n",
    "loss = nn.MSELoss()\n",
    "\n",
    "# Optimizer\n",
    "trainer = optim.SGD(net.parameters(), lr=0.02)\n",
    "\n",
    "num_epochs = 3\n",
    "for epoch in range(num_epochs):\n",
    "    for X, y in data_iter:\n",
    "        # Forward pass\n",
    "        output = net(X)\n",
    "        l = loss(output, y.view(-1, 1))  # Compute loss\n",
    "\n",
    "        # Backward pass\n",
    "        trainer.zero_grad()\n",
    "        l.backward()\n",
    "        trainer.step()\n",
    "\n",
    "    # Calculate the loss on the entire dataset\n",
    "    l = loss(net(features), labels.view(-1, 1))\n",
    "    print(f'epoch {epoch + 1}, loss: {l.item()}')\n",
    "\n",
    "# Compare estimated parameters with true parameters\n",
    "w = net[0].weight.data.numpy()\n",
    "print('Error in estimating w', true_w.numpy() - w.flatten())\n",
    "b = net[0].bias.data.numpy()\n",
    "print('Error in estimating b', true_b - b.item())\n"
   ]
  },
  {
   "cell_type": "code",
   "execution_count": 7,
   "metadata": {},
   "outputs": [],
   "source": [
    "import torch\n",
    "from torch import nn\n",
    "import torch.optim as optim\n",
    "import numpy as np\n",
    "\n",
    "# Helper functions\n",
    "def synthetic_data(w, b, num_examples):\n",
    "    features = torch.normal(0, 1, (num_examples, len(w)))\n",
    "    labels = torch.matmul(features, w) + b\n",
    "    labels += torch.normal(0, 0.01, labels.shape)\n",
    "    return features, labels\n",
    "\n",
    "def load_array(data_arrays, batch_size, shuffle=True):\n",
    "    dataset = torch.utils.data.TensorDataset(*data_arrays)\n",
    "    return torch.utils.data.DataLoader(dataset, batch_size=batch_size, shuffle=shuffle)\n",
    "\n",
    "true_w = torch.tensor([2, -3.4], dtype=torch.float32)\n",
    "true_b = 4.2\n",
    "features, labels = synthetic_data(true_w, true_b, 1000)\n",
    "\n",
    "batch_size = 10\n",
    "data_iter = load_array((features, labels), batch_size)\n"
   ]
  },
  {
   "cell_type": "code",
   "execution_count": 8,
   "metadata": {},
   "outputs": [
    {
     "data": {
      "text/plain": [
       "Parameter containing:\n",
       "tensor([0.], requires_grad=True)"
      ]
     },
     "execution_count": 8,
     "metadata": {},
     "output_type": "execute_result"
    }
   ],
   "source": [
    "# Define the linear regression model\n",
    "net = nn.Sequential(nn.Linear(2, 1))  # 2 inputs (features) and 1 output (prediction)\n",
    "\n",
    "# Initialize model parameters\n",
    "nn.init.normal_(net[0].weight, std=0.01)\n",
    "nn.init.constant_(net[0].bias, val=0)\n"
   ]
  },
  {
   "cell_type": "code",
   "execution_count": 9,
   "metadata": {},
   "outputs": [
    {
     "name": "stdout",
     "output_type": "stream",
     "text": [
      "epoch 1, loss: 0.01113776583224535\n",
      "epoch 2, loss: 0.00010264442971674725\n",
      "epoch 3, loss: 9.953241533366963e-05\n",
      "epoch 4, loss: 9.929583757184446e-05\n",
      "epoch 5, loss: 9.907934145303443e-05\n",
      "epoch 6, loss: 9.957896691048518e-05\n",
      "epoch 7, loss: 9.958783630281687e-05\n",
      "epoch 8, loss: 9.92832938209176e-05\n",
      "epoch 9, loss: 9.910028165904805e-05\n",
      "epoch 10, loss: 9.921971650328487e-05\n"
     ]
    }
   ],
   "source": [
    "# Loss function\n",
    "loss = nn.MSELoss()\n",
    "\n",
    "# Optimizer\n",
    "trainer = optim.SGD(net.parameters(), lr=0.02)\n",
    "\n",
    "num_epochs = 10\n",
    "for epoch in range(num_epochs):\n",
    "    for X, y in data_iter:\n",
    "        # Forward pass\n",
    "        output = net(X)\n",
    "        l = loss(output, y.view(-1, 1))  # Compute loss\n",
    "\n",
    "        # Backward pass\n",
    "        trainer.zero_grad()\n",
    "        l.backward()\n",
    "        trainer.step()\n",
    "\n",
    "    # Calculate the loss on the entire dataset\n",
    "    l = loss(net(features), labels.view(-1, 1))\n",
    "    print(f'epoch {epoch + 1}, loss: {l.item()}')\n"
   ]
  },
  {
   "cell_type": "code",
   "execution_count": 10,
   "metadata": {},
   "outputs": [
    {
     "name": "stdout",
     "output_type": "stream",
     "text": [
      "Error in estimating w [0.00047803 0.00022626]\n",
      "Error in estimating b 0.0006668090820314276\n"
     ]
    }
   ],
   "source": [
    "# Compare estimated parameters with true parameters\n",
    "w = net[0].weight.data.numpy()\n",
    "print('Error in estimating w', true_w.numpy() - w.flatten())\n",
    "b = net[0].bias.data.numpy()\n",
    "print('Error in estimating b', true_b - b.item())\n"
   ]
  }
 ],
 "metadata": {
  "kernelspec": {
   "display_name": "Python 3",
   "language": "python",
   "name": "python3"
  },
  "language_info": {
   "codemirror_mode": {
    "name": "ipython",
    "version": 3
   },
   "file_extension": ".py",
   "mimetype": "text/x-python",
   "name": "python",
   "nbconvert_exporter": "python",
   "pygments_lexer": "ipython3",
   "version": "3.10.11"
  }
 },
 "nbformat": 4,
 "nbformat_minor": 2
}
