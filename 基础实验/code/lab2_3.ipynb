{
 "cells": [
  {
   "cell_type": "code",
   "execution_count": 4,
   "metadata": {},
   "outputs": [
    {
     "name": "stdout",
     "output_type": "stream",
     "text": [
      "tensor([[[ 0.8901, -1.6367, -0.3958],\n",
      "         [-0.9534,  1.1349, -0.3155],\n",
      "         [-1.9681, -0.4038, -0.7300]],\n",
      "\n",
      "        [[ 1.9108, -1.3148, -0.5378],\n",
      "         [-0.3815,  0.1109, -0.6422],\n",
      "         [ 0.4522,  0.9176,  1.1224]],\n",
      "\n",
      "        [[-0.7143,  0.8246,  0.0632],\n",
      "         [-1.0698,  1.8606, -0.4563],\n",
      "         [-0.3510,  1.2941, -0.4524]]])\n",
      "tensor([[[[-1.4250]],\n",
      "\n",
      "         [[ 0.6100]],\n",
      "\n",
      "         [[-0.6418]]],\n",
      "\n",
      "\n",
      "        [[[ 0.0422]],\n",
      "\n",
      "         [[-0.8574]],\n",
      "\n",
      "         [[-0.1145]]]])\n",
      "torch.Size([3, 3, 3])\n",
      "torch.Size([2, 3, 1, 1])\n",
      "torch.Size([2, 3, 3])\n"
     ]
    }
   ],
   "source": [
    "def corr2d_multi_in_out_1x1(X, K):\n",
    "    c_i, h, w = X.shape\n",
    "    c_o = K.shape[0]\n",
    "    X = X.reshape((c_i, h * w))\n",
    "    K = K.reshape((c_o, c_i))\n",
    "    # 全连接层中的矩阵乘法\n",
    "    Y = torch.matmul(K, X)\n",
    "    return Y.reshape((c_o, h, w))\n",
    "\n",
    "import torch\n",
    "import torch.nn as nn\n",
    "\n",
    "X = torch.normal(0, 1, (3, 3, 3))\n",
    "K = torch.normal(0, 1, (2, 3, 1, 1))\n",
    "print(X)\n",
    "print(K)\n",
    "\n",
    "Y1 = corr2d_multi_in_out_1x1(X, K)\n",
    "print(X.shape)\n",
    "print(K.shape)\n",
    "print(Y1.shape)\n"
   ]
  },
  {
   "cell_type": "code",
   "execution_count": 2,
   "metadata": {},
   "outputs": [
    {
     "name": "stdout",
     "output_type": "stream",
     "text": [
      "输入张量形状: torch.Size([8, 16, 32, 32])\n",
      "输出张量形状: torch.Size([8, 8, 32, 32])\n"
     ]
    }
   ],
   "source": [
    "import torch\n",
    "import torch.nn as nn\n",
    "\n",
    "# 定义一个具有16个输入通道的样本输入张量，形状为(batch_size, in_channels, height, width)\n",
    "input_tensor = torch.randn(8, 16, 32, 32)\n",
    "\n",
    "# 定义一个自定义模块，使用1x1卷积将通道数量减半\n",
    "class ChannelHalvingModule(nn.Module):\n",
    "    def __init__(self, in_channels, out_channels):\n",
    "        super(ChannelHalvingModule, self).__init__()\n",
    "        self.conv1x1 = nn.Conv2d(in_channels, out_channels, kernel_size=1)\n",
    "\n",
    "    def forward(self, x):\n",
    "        return self.conv1x1(x)\n",
    "\n",
    "# 创建自定义模块的实例\n",
    "module = ChannelHalvingModule(in_channels=16, out_channels=8)\n",
    "\n",
    "# 将输入张量传递给模块\n",
    "output_tensor = module(input_tensor)\n",
    "\n",
    "# 打印输入张量和输出张量的形状\n",
    "print(\"输入张量形状:\", input_tensor.shape)\n",
    "print(\"输出张量形状:\", output_tensor.shape)\n"
   ]
  }
 ],
 "metadata": {
  "kernelspec": {
   "display_name": "Python 3",
   "language": "python",
   "name": "python3"
  },
  "language_info": {
   "codemirror_mode": {
    "name": "ipython",
    "version": 3
   },
   "file_extension": ".py",
   "mimetype": "text/x-python",
   "name": "python",
   "nbconvert_exporter": "python",
   "pygments_lexer": "ipython3",
   "version": "3.10.11"
  }
 },
 "nbformat": 4,
 "nbformat_minor": 2
}
