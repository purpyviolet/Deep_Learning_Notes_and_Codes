{
 "cells": [
  {
   "cell_type": "code",
   "execution_count": 2,
   "id": "65f84025",
   "metadata": {},
   "outputs": [
    {
     "name": "stdout",
     "output_type": "stream",
     "text": [
      "torch.Size([2, 2])\n",
      "(3, 3)\n",
      "torch.Size([4, 4])\n",
      "(5, 5)\n",
      "torch.Size([4, 3])\n",
      "(5, 4)\n"
     ]
    }
   ],
   "source": [
    "import torch\n",
    "import torch.nn as nn\n",
    "\n",
    "def comp_conv2d(conv2d, X):\n",
    "    conv2d.weight.data.normal_(0.0, 0.01)\n",
    "    conv2d.bias.data.zero_()\n",
    "    X = X.unsqueeze(0).unsqueeze(0)  # 在第一个维度添加 batch_size 和 channel\n",
    "    Y = conv2d(X)\n",
    "    return Y.squeeze()  # 移除 batch_size 和 channel 维度\n",
    "\n",
    "X = torch.rand(8, 8)  # 创建输入张量，去掉 batch_size 和 channel 维度\n",
    "\n",
    "def shape_calculation(k, p, s, X):\n",
    "    h = (X.shape[0] - k[0] + 2 * p[0] + s[0]) // s[0] + 1\n",
    "    w = (X.shape[1] - k[1] + 2 * p[1] + s[1]) // s[1] + 1\n",
    "    return (h, w)\n",
    "\n",
    "k = (3, 3)\n",
    "p = (0, 1)\n",
    "s = (3, 4)\n",
    "conv2d = nn.Conv2d(1, 1, kernel_size=k, padding=p, stride=s)\n",
    "Y = comp_conv2d(conv2d, X)\n",
    "print(Y.shape)\n",
    "print(shape_calculation(k, p, s, X))\n",
    "\n",
    "k = (3, 3)\n",
    "p = (1, 1)\n",
    "s = (2, 2)\n",
    "conv2d = nn.Conv2d(1, 1, kernel_size=k, padding=p, stride=s)\n",
    "Y = comp_conv2d(conv2d, X)\n",
    "print(Y.shape)\n",
    "print(shape_calculation(k, p, s, X))\n",
    "\n",
    "k = (3, 3)\n",
    "p = (1, 1)\n",
    "s = (2, 3)\n",
    "conv2d = nn.Conv2d(1, 1, kernel_size=k, padding=p, stride=s)\n",
    "Y = comp_conv2d(conv2d, X)\n",
    "print(Y.shape)\n",
    "print(shape_calculation(k, p, s, X))\n"
   ]
  },
  {
   "cell_type": "code",
   "execution_count": 3,
   "id": "881a97e9",
   "metadata": {},
   "outputs": [
    {
     "name": "stdout",
     "output_type": "stream",
     "text": [
      "组合1:\n",
      "输出形状: 32\n",
      "\n",
      "组合2:\n",
      "输出形状: 32\n",
      "\n",
      "组合3:\n",
      "输出形状: 13\n"
     ]
    }
   ],
   "source": [
    "def calculate_output_shape(input_shape, kernel_size, padding, stride):\n",
    "    # 计算输出形状\n",
    "    output_shape = ((input_shape - kernel_size + 2 * padding) // stride) + 1\n",
    "    return output_shape\n",
    "\n",
    "# 组合1\n",
    "input_shape = 32\n",
    "kernel_size = 3\n",
    "padding = 1\n",
    "stride = 1\n",
    "\n",
    "# 调用函数计算输出形状\n",
    "output_shape = calculate_output_shape(input_shape, kernel_size, padding, stride)\n",
    "print(\"组合1:\")\n",
    "print(\"输出形状:\", output_shape)\n",
    "\n",
    "# 组合2\n",
    "input_shape = 64\n",
    "kernel_size = 5\n",
    "padding = 2\n",
    "stride = 2\n",
    "\n",
    "# 调用函数计算输出形状\n",
    "output_shape = calculate_output_shape(input_shape, kernel_size, padding, stride)\n",
    "print(\"\\n组合2:\")\n",
    "print(\"输出形状:\", output_shape)\n",
    "\n",
    "# 组合3\n",
    "input_shape = 28\n",
    "kernel_size = 3\n",
    "padding = 0\n",
    "stride = 2\n",
    "\n",
    "# 调用函数计算输出形状\n",
    "output_shape = calculate_output_shape(input_shape, kernel_size, padding, stride)\n",
    "print(\"\\n组合3:\")\n",
    "print(\"输出形状:\", output_shape)\n"
   ]
  }
 ],
 "metadata": {
  "kernelspec": {
   "display_name": "Python 3",
   "language": "python",
   "name": "python3"
  },
  "language_info": {
   "codemirror_mode": {
    "name": "ipython",
    "version": 3
   },
   "file_extension": ".py",
   "mimetype": "text/x-python",
   "name": "python",
   "nbconvert_exporter": "python",
   "pygments_lexer": "ipython3",
   "version": "3.10.11"
  }
 },
 "nbformat": 4,
 "nbformat_minor": 5
}
