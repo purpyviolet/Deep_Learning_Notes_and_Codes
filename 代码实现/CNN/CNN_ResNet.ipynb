{
 "cells": [
  {
   "cell_type": "code",
   "execution_count": 1,
   "metadata": {},
   "outputs": [
    {
     "name": "stdout",
     "output_type": "stream",
     "text": [
      "Downloading http://yann.lecun.com/exdb/mnist/train-images-idx3-ubyte.gz\n",
      "Downloading http://yann.lecun.com/exdb/mnist/train-images-idx3-ubyte.gz to ./data\\MNIST\\raw\\train-images-idx3-ubyte.gz\n"
     ]
    },
    {
     "name": "stderr",
     "output_type": "stream",
     "text": [
      "100%|██████████| 9912422/9912422 [00:00<00:00, 20028311.93it/s]\n"
     ]
    },
    {
     "name": "stdout",
     "output_type": "stream",
     "text": [
      "Extracting ./data\\MNIST\\raw\\train-images-idx3-ubyte.gz to ./data\\MNIST\\raw\n",
      "\n",
      "Downloading http://yann.lecun.com/exdb/mnist/train-labels-idx1-ubyte.gz\n",
      "Downloading http://yann.lecun.com/exdb/mnist/train-labels-idx1-ubyte.gz to ./data\\MNIST\\raw\\train-labels-idx1-ubyte.gz\n"
     ]
    },
    {
     "name": "stderr",
     "output_type": "stream",
     "text": [
      "100%|██████████| 28881/28881 [00:00<00:00, 28828104.19it/s]"
     ]
    },
    {
     "name": "stdout",
     "output_type": "stream",
     "text": [
      "Extracting ./data\\MNIST\\raw\\train-labels-idx1-ubyte.gz to ./data\\MNIST\\raw\n",
      "\n",
      "Downloading http://yann.lecun.com/exdb/mnist/t10k-images-idx3-ubyte.gz\n"
     ]
    },
    {
     "name": "stderr",
     "output_type": "stream",
     "text": [
      "\n"
     ]
    },
    {
     "name": "stdout",
     "output_type": "stream",
     "text": [
      "Downloading http://yann.lecun.com/exdb/mnist/t10k-images-idx3-ubyte.gz to ./data\\MNIST\\raw\\t10k-images-idx3-ubyte.gz\n"
     ]
    },
    {
     "name": "stderr",
     "output_type": "stream",
     "text": [
      "100%|██████████| 1648877/1648877 [00:00<00:00, 6621753.12it/s]\n"
     ]
    },
    {
     "name": "stdout",
     "output_type": "stream",
     "text": [
      "Extracting ./data\\MNIST\\raw\\t10k-images-idx3-ubyte.gz to ./data\\MNIST\\raw\n",
      "\n",
      "Downloading http://yann.lecun.com/exdb/mnist/t10k-labels-idx1-ubyte.gz\n",
      "Downloading http://yann.lecun.com/exdb/mnist/t10k-labels-idx1-ubyte.gz to ./data\\MNIST\\raw\\t10k-labels-idx1-ubyte.gz\n"
     ]
    },
    {
     "name": "stderr",
     "output_type": "stream",
     "text": [
      "100%|██████████| 4542/4542 [00:00<?, ?it/s]\n",
      "C:\\Users\\epiph\\AppData\\Local\\Packages\\PythonSoftwareFoundation.Python.3.10_qbz5n2kfra8p0\\LocalCache\\local-packages\\Python310\\site-packages\\torchvision\\models\\_utils.py:208: UserWarning: The parameter 'pretrained' is deprecated since 0.13 and may be removed in the future, please use 'weights' instead.\n",
      "  warnings.warn(\n",
      "C:\\Users\\epiph\\AppData\\Local\\Packages\\PythonSoftwareFoundation.Python.3.10_qbz5n2kfra8p0\\LocalCache\\local-packages\\Python310\\site-packages\\torchvision\\models\\_utils.py:223: UserWarning: Arguments other than a weight enum or `None` for 'weights' are deprecated since 0.13 and may be removed in the future. The current behavior is equivalent to passing `weights=None`.\n",
      "  warnings.warn(msg)\n"
     ]
    },
    {
     "name": "stdout",
     "output_type": "stream",
     "text": [
      "Extracting ./data\\MNIST\\raw\\t10k-labels-idx1-ubyte.gz to ./data\\MNIST\\raw\n",
      "\n",
      "[Epoch 1, Batch 100] loss: 0.359\n",
      "[Epoch 1, Batch 200] loss: 0.122\n",
      "[Epoch 1, Batch 300] loss: 0.086\n",
      "[Epoch 1, Batch 400] loss: 0.076\n",
      "[Epoch 1, Batch 500] loss: 0.065\n",
      "[Epoch 1, Batch 600] loss: 0.067\n",
      "[Epoch 1, Batch 700] loss: 0.063\n",
      "[Epoch 1, Batch 800] loss: 0.056\n",
      "[Epoch 1, Batch 900] loss: 0.043\n",
      "[Epoch 2, Batch 100] loss: 0.039\n",
      "[Epoch 2, Batch 200] loss: 0.048\n",
      "[Epoch 2, Batch 300] loss: 0.042\n",
      "[Epoch 2, Batch 400] loss: 0.040\n",
      "[Epoch 2, Batch 500] loss: 0.040\n",
      "[Epoch 2, Batch 600] loss: 0.037\n",
      "[Epoch 2, Batch 700] loss: 0.047\n",
      "[Epoch 2, Batch 800] loss: 0.045\n",
      "[Epoch 2, Batch 900] loss: 0.044\n",
      "[Epoch 3, Batch 100] loss: 0.025\n",
      "[Epoch 3, Batch 200] loss: 0.029\n",
      "[Epoch 3, Batch 300] loss: 0.027\n",
      "[Epoch 3, Batch 400] loss: 0.030\n",
      "[Epoch 3, Batch 500] loss: 0.038\n",
      "[Epoch 3, Batch 600] loss: 0.030\n",
      "[Epoch 3, Batch 700] loss: 0.032\n",
      "[Epoch 3, Batch 800] loss: 0.036\n",
      "[Epoch 3, Batch 900] loss: 0.030\n",
      "[Epoch 4, Batch 100] loss: 0.030\n",
      "[Epoch 4, Batch 200] loss: 0.023\n",
      "[Epoch 4, Batch 300] loss: 0.028\n",
      "[Epoch 4, Batch 400] loss: 0.023\n",
      "[Epoch 4, Batch 500] loss: 0.030\n",
      "[Epoch 4, Batch 600] loss: 0.026\n",
      "[Epoch 4, Batch 700] loss: 0.019\n",
      "[Epoch 4, Batch 800] loss: 0.023\n",
      "[Epoch 4, Batch 900] loss: 0.027\n",
      "[Epoch 5, Batch 100] loss: 0.033\n",
      "[Epoch 5, Batch 200] loss: 0.026\n",
      "[Epoch 5, Batch 300] loss: 0.017\n",
      "[Epoch 5, Batch 400] loss: 0.026\n",
      "[Epoch 5, Batch 500] loss: 0.029\n",
      "[Epoch 5, Batch 600] loss: 0.022\n",
      "[Epoch 5, Batch 700] loss: 0.018\n",
      "[Epoch 5, Batch 800] loss: 0.025\n",
      "[Epoch 5, Batch 900] loss: 0.021\n",
      "Finished Training\n"
     ]
    }
   ],
   "source": [
    "import torch\n",
    "import torch.nn as nn\n",
    "import torch.optim as optim\n",
    "import torchvision\n",
    "import torchvision.transforms as transforms\n",
    "import torchvision.models as models\n",
    "\n",
    "# 检查是否有可用的 GPU\n",
    "device = torch.device(\"cuda\" if torch.cuda.is_available() else \"cpu\")\n",
    "\n",
    "# 数据预处理\n",
    "transform = transforms.Compose([\n",
    "    transforms.Resize((224, 224)),  # 调整图像大小以适应 ResNet 的输入\n",
    "    transforms.Grayscale(num_output_channels=1),  # 将图像转换为灰度图像（1个通道）\n",
    "    transforms.ToTensor(),\n",
    "    transforms.Normalize((0.5,), (0.5,))\n",
    "])\n",
    "\n",
    "# 加载数据集\n",
    "train_set = torchvision.datasets.MNIST(root='./data', train=True, download=True, transform=transform)\n",
    "train_loader = torch.utils.data.DataLoader(train_set, batch_size=64, shuffle=True)\n",
    "\n",
    "# 创建 ResNet 模型\n",
    "model = models.resnet18(pretrained=False)\n",
    "model.conv1 = nn.Conv2d(1, 64, kernel_size=7, stride=2, padding=3, bias=False)\n",
    "num_ftrs = model.fc.in_features\n",
    "model.fc = nn.Linear(num_ftrs, 10)  # 将输出类别改为 10\n",
    "\n",
    "# 将模型加载到 GPU 或 CPU 上\n",
    "model = model.to(device)\n",
    "\n",
    "# 定义损失函数和优化器\n",
    "criterion = nn.CrossEntropyLoss()\n",
    "optimizer = optim.Adam(model.parameters(), lr=0.001)\n",
    "\n",
    "# 训练模型\n",
    "epochs = 5\n",
    "for epoch in range(epochs):\n",
    "    running_loss = 0.0\n",
    "    for i, data in enumerate(train_loader, 0):\n",
    "        inputs, labels = data[0].to(device), data[1].to(device)  # 将数据加载到 GPU 或 CPU 上\n",
    "        optimizer.zero_grad()\n",
    "        outputs = model(inputs)\n",
    "        loss = criterion(outputs, labels)\n",
    "        loss.backward()\n",
    "        optimizer.step()\n",
    "        \n",
    "        running_loss += loss.item()\n",
    "        if i % 100 == 99:\n",
    "            print(f\"[Epoch {epoch + 1}, Batch {i + 1}] loss: {running_loss / 100:.3f}\")\n",
    "            running_loss = 0.0\n",
    "\n",
    "print('Finished Training')\n",
    "\n",
    "# 保存模型\n",
    "torch.save(model.state_dict(), 'resnet_mnist_model.pth')\n",
    "\n"
   ]
  },
  {
   "cell_type": "code",
   "execution_count": 2,
   "metadata": {},
   "outputs": [
    {
     "name": "stdout",
     "output_type": "stream",
     "text": [
      "Accuracy of the network on the 10000 test images: 99 %\n"
     ]
    }
   ],
   "source": [
    "# 加载保存的模型\n",
    "model = models.resnet18(pretrained=False)\n",
    "model.conv1 = nn.Conv2d(1, 64, kernel_size=7, stride=2, padding=3, bias=False)\n",
    "num_ftrs = model.fc.in_features\n",
    "model.fc = nn.Linear(num_ftrs, 10)  # 将输出类别改为 10\n",
    "model.load_state_dict(torch.load('resnet_mnist_model.pth'))\n",
    "model = model.to(device)\n",
    "\n",
    "# 测试模型\n",
    "test_set = torchvision.datasets.MNIST(root='./data', train=False, download=True, transform=transform)\n",
    "test_loader = torch.utils.data.DataLoader(test_set, batch_size=64, shuffle=False)\n",
    "\n",
    "correct = 0\n",
    "total = 0\n",
    "with torch.no_grad():\n",
    "    for data in test_loader:\n",
    "        images, labels = data[0].to(device), data[1].to(device)\n",
    "        outputs = model(images)\n",
    "        _, predicted = torch.max(outputs, 1)\n",
    "        total += labels.size(0)\n",
    "        correct += (predicted == labels).sum().item()\n",
    "\n",
    "print('Accuracy of the network on the 10000 test images: %d %%' % (100 * correct / total))\n"
   ]
  }
 ],
 "metadata": {
  "kernelspec": {
   "display_name": "torchproject",
   "language": "python",
   "name": "python3"
  },
  "language_info": {
   "codemirror_mode": {
    "name": "ipython",
    "version": 3
   },
   "file_extension": ".py",
   "mimetype": "text/x-python",
   "name": "python",
   "nbconvert_exporter": "python",
   "pygments_lexer": "ipython3",
   "version": "3.10.11"
  }
 },
 "nbformat": 4,
 "nbformat_minor": 2
}
